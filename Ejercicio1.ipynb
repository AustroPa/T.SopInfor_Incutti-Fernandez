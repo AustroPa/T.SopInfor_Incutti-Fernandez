{
  "nbformat": 4,
  "nbformat_minor": 0,
  "metadata": {
    "colab": {
      "provenance": [],
      "authorship_tag": "ABX9TyP1dzuIPCPCVk2A0gfnhHQr",
      "include_colab_link": true
    },
    "kernelspec": {
      "name": "python3",
      "display_name": "Python 3"
    },
    "language_info": {
      "name": "python"
    }
  },
  "cells": [
    {
      "cell_type": "markdown",
      "metadata": {
        "id": "view-in-github",
        "colab_type": "text"
      },
      "source": [
        "<a href=\"https://colab.research.google.com/github/AustroPa/T.SopInfor_Incutti-Fernandez/blob/main/Ejercicio1.ipynb\" target=\"_parent\"><img src=\"https://colab.research.google.com/assets/colab-badge.svg\" alt=\"Open In Colab\"/></a>"
      ]
    },
    {
      "cell_type": "code",
      "execution_count": 11,
      "metadata": {
        "id": "gnINM2dV5FWn"
      },
      "outputs": [],
      "source": []
    },
    {
      "cell_type": "code",
      "source": [
        "import builtins\n",
        "\n",
        "lista = [\" a a a a \", 1, 1.5]\n",
        "\n",
        "i = 0\n",
        "while i < len(lista):\n",
        "    if isinstance(lista[i], str):\n",
        "        lista[i] = lista[i].replace(\" \", \"\")\n",
        "    i += 1\n",
        "\n",
        "largo = len(lista)\n",
        "print(lista)\n",
        "\n"
      ],
      "metadata": {
        "id": "igQ-Gl8MJw13",
        "colab": {
          "base_uri": "https://localhost:8080/"
        },
        "outputId": "048121a4-ecbd-4e14-c6cb-9214e4e569b1"
      },
      "execution_count": 14,
      "outputs": [
        {
          "output_type": "stream",
          "name": "stdout",
          "text": [
            "['aaaa', 1, 1.5]\n"
          ]
        }
      ]
    },
    {
      "cell_type": "code",
      "source": [],
      "metadata": {
        "id": "vrTimCEz5qAN"
      },
      "execution_count": null,
      "outputs": []
    }
  ]
}